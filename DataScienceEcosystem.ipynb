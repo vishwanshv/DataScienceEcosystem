{
 "cells": [
  {
   "cell_type": "markdown",
   "id": "485531cb-3fc2-4c5b-a769-6b446f83c624",
   "metadata": {},
   "source": [
    "# Data Science Ecosystem"
   ]
  },
  {
   "cell_type": "markdown",
   "id": "40be036e-63a1-4eab-b0b4-bac06c582713",
   "metadata": {},
   "source": [
    "# In this notebook, Data Science Tools and Ecosystem are summarized"
   ]
  },
  {
   "cell_type": "markdown",
   "id": "d20ec0dc-b420-4ad3-bf9d-fd7e74be7f4c",
   "metadata": {},
   "source": [
    " **Objectives:**\n",
    " - List Popular languages for Data Science\n",
    " - List some of the commonly used libraries by Data Scientists\n",
    " - List Data Science tools\n",
    " - Evaluating Arithmetic expressions in Python"
   ]
  },
  {
   "cell_type": "markdown",
   "id": "b7b46a51-8e12-4257-93e0-066c9c2eb7e8",
   "metadata": {},
   "source": [
    "# Some of the popular languages that Data Scientists use are:-\n",
    "1. Python\n",
    "2. R\n",
    "3. SQL"
   ]
  },
  {
   "cell_type": "markdown",
   "id": "2bba0441-ec45-41c7-9af2-20c292d47811",
   "metadata": {},
   "source": [
    "# Some of the commonly used libraries used by Data Scientists are:-\n",
    "1. Pandas\n",
    "2. Matplotlib\n",
    "3. ScikitLearn"
   ]
  },
  {
   "cell_type": "markdown",
   "id": "ea4f9706-3454-4de6-bbec-b3c347927446",
   "metadata": {},
   "source": [
    "| Data Science Tools |\n",
    "|------------|\n",
    "|MongoDB|\n",
    "|MySQL|\n",
    "|PostgreSQL|"
   ]
  },
  {
   "cell_type": "markdown",
   "id": "68a42c8a-d9ad-4d11-a862-73bbf374894a",
   "metadata": {},
   "source": [
    "### Below are a few examples of evaluating arithmetic expressions in Python:-\n"
   ]
  },
  {
   "cell_type": "code",
   "execution_count": 12,
   "id": "af70feda-e656-496f-9934-b96f5d7f9f44",
   "metadata": {},
   "outputs": [
    {
     "data": {
      "text/plain": [
       "17"
      ]
     },
     "execution_count": 12,
     "metadata": {},
     "output_type": "execute_result"
    }
   ],
   "source": [
    "# This is a simple arithmetic expression to multiply then add integers\n",
    "\n",
    "(3*4)+5"
   ]
  },
  {
   "cell_type": "code",
   "execution_count": 14,
   "id": "33b9f545-a8f1-4942-960c-bd9c36bb2a3f",
   "metadata": {},
   "outputs": [
    {
     "data": {
      "text/plain": [
       "3.3333333333333335"
      ]
     },
     "execution_count": 14,
     "metadata": {},
     "output_type": "execute_result"
    }
   ],
   "source": [
    "# This will convert 200 minutes to hours by dividing by 60\n",
    "\n",
    "minutes = 200\n",
    "hours = minutes / 60\n",
    "hours\n"
   ]
  },
  {
   "cell_type": "markdown",
   "id": "d41670f6-435f-4076-9d82-2c95a1718fae",
   "metadata": {},
   "source": [
    "## Author\n",
    "Vishwansh Vardha"
   ]
  },
  {
   "cell_type": "code",
   "execution_count": null,
   "id": "244a35e5-6214-4ca8-8fb2-c43ee92cea99",
   "metadata": {},
   "outputs": [],
   "source": []
  }
 ],
 "metadata": {
  "kernelspec": {
   "display_name": "Python 3 (ipykernel)",
   "language": "python",
   "name": "python3"
  },
  "language_info": {
   "codemirror_mode": {
    "name": "ipython",
    "version": 3
   },
   "file_extension": ".py",
   "mimetype": "text/x-python",
   "name": "python",
   "nbconvert_exporter": "python",
   "pygments_lexer": "ipython3",
   "version": "3.12.7"
  }
 },
 "nbformat": 4,
 "nbformat_minor": 5
}
